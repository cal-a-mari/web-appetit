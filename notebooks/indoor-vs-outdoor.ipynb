{
 "metadata": {
  "name": ""
 },
 "nbformat": 3,
 "nbformat_minor": 0,
 "worksheets": [
  {
   "cells": [
    {
     "cell_type": "code",
     "collapsed": false,
     "input": [
      "import flickrapi\n",
      "from flickrapi import shorturl\n",
      "import json\n",
      "from main import *\n",
      "import numpy as np\n",
      "import matplotlib.pyplot as plt\n",
      "\n",
      "APIKEY = \"800f28ae42a58a95f0005fb0fe022a78\"\n",
      "\n",
      "flickr = flickrapi.FlickrAPI(APIKEY)"
     ],
     "language": "python",
     "metadata": {},
     "outputs": [],
     "prompt_number": 67
    },
    {
     "cell_type": "code",
     "collapsed": false,
     "input": [
      "numDogsGeo = float(get_count(flickr.photos_search(\n",
      "        tag_mode='any',\n",
      "        tags='dog',\n",
      "        has_geo='1',\n",
      "        format='json')))\n",
      "\n",
      "numDogsNoGeo = float(get_count(flickr.photos_search(\n",
      "        tag_mode='any',\n",
      "        tags='dog',\n",
      "        has_geo='0',\n",
      "        format='json')))"
     ],
     "language": "python",
     "metadata": {},
     "outputs": [],
     "prompt_number": 50
    },
    {
     "cell_type": "code",
     "collapsed": false,
     "input": [
      "dogPhotosWithGeo = numDogsGeo/(numDogsGeo+numDogsNoGeo)\n",
      "dogPhotosWithGeo"
     ],
     "language": "python",
     "metadata": {},
     "outputs": [
      {
       "metadata": {},
       "output_type": "pyout",
       "prompt_number": 51,
       "text": [
        "0.12498682388479526"
       ]
      }
     ],
     "prompt_number": 51
    },
    {
     "cell_type": "code",
     "collapsed": false,
     "input": [
      "numCatsGeo = float(get_count(flickr.photos_search(\n",
      "        tag_mode='any',\n",
      "        tags='cat',\n",
      "        has_geo='1',\n",
      "        format='json')))\n",
      "\n",
      "numCatsNoGeo = float(get_count(flickr.photos_search(\n",
      "        tag_mode='any',\n",
      "        tags='cat',\n",
      "        has_geo='0',\n",
      "        format='json')))"
     ],
     "language": "python",
     "metadata": {},
     "outputs": [],
     "prompt_number": 54
    },
    {
     "cell_type": "code",
     "collapsed": false,
     "input": [
      "catPhotosWithGeo = numCatsGeo/(numCatsGeo+numCatsNoGeo)\n",
      "catPhotosWithGeo"
     ],
     "language": "python",
     "metadata": {},
     "outputs": [
      {
       "metadata": {},
       "output_type": "pyout",
       "prompt_number": 55,
       "text": [
        "0.10483067478389066"
       ]
      }
     ],
     "prompt_number": 55
    },
    {
     "cell_type": "code",
     "collapsed": false,
     "input": [
      "def getGeoRatio(tagList):\n",
      "    results = []\n",
      "    for tag in tagList:\n",
      "        tagWithGeo = float(get_count(flickr.photos_search(\n",
      "        tag_mode='any',\n",
      "        tags=tag,\n",
      "        has_geo='1',\n",
      "        format='json')))\n",
      "        \n",
      "        tagWithNoGeo = float(get_count(flickr.photos_search(\n",
      "        tag_mode='any',\n",
      "        tags=tag,\n",
      "        has_geo='0',\n",
      "        format='json')))\n",
      "\n",
      "        ratio = tagWithGeo/(tagWithGeo+tagWithNoGeo)\n",
      "        obj = {tag: ratio}\n",
      "        results.append(obj)\n",
      "    return results\n",
      "\n",
      "tagList = ['dog','cat','horse', 'lizard', 'monkey', 'pony']\n",
      "getGeoRatio(tagList)"
     ],
     "language": "python",
     "metadata": {},
     "outputs": [
      {
       "metadata": {},
       "output_type": "pyout",
       "prompt_number": 81,
       "text": [
        "[{'dog': 0.12382318009327656},\n",
        " {'cat': 0.10483015742162084},\n",
        " {'horse': 0.18469437990647591},\n",
        " {'lizard': 0.21240133048701781},\n",
        " {'monkey': 0.1905624033101893},\n",
        " {'pony': 0.1225906637893949}]"
       ]
      }
     ],
     "prompt_number": 81
    },
    {
     "cell_type": "code",
     "collapsed": false,
     "input": [
      "result = getGeoRatio(tagList)\n",
      "n_groups = len(tagList)\n",
      "\n",
      "# n_groups = 5\n",
      "ratios = []\n",
      "for elem in result:\n",
      "    ratios.append(elem.items()[0][1])\n",
      "    \n",
      "x_ticks = []\n",
      "for elem in result:\n",
      "    x_ticks.append(elem.items()[0][0])\n",
      "\n",
      "fig, ax = plt.subplots()\n",
      "index = np.arange(n_groups)\n",
      "bar_width = 0.35\n",
      "opacity = 0.4\n",
      "\n",
      "rects1 = plt.bar(index, ratios, bar_width,\n",
      "                 alpha=opacity,\n",
      "                 color='b',\n",
      "                 error_kw=error_config,\n",
      "                 label='Animals')\n",
      "\n",
      "plt.xlabel('Group')\n",
      "plt.ylabel('Has Geo Data')\n",
      "plt.title('Geo Data')\n",
      "plt.xticks(index + bar_width, x_ticks)\n",
      "plt.legend()\n",
      "plt.tight_layout()\n",
      "plt.show()"
     ],
     "language": "python",
     "metadata": {},
     "outputs": [],
     "prompt_number": 95
    }
   ],
   "metadata": {}
  }
 ]
}
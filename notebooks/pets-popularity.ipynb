{
 "metadata": {
  "name": ""
 },
 "nbformat": 3,
 "nbformat_minor": 0,
 "worksheets": [
  {
   "cells": [
    {
     "cell_type": "code",
     "collapsed": false,
     "input": [
      "from main import *\n",
      "from pylab import figure, show\n",
      "import matplotlib.pyplot as plt\n",
      "import numpy as np\n",
      "\n",
      "from pylab import figure, show\n",
      "\n",
      "from pandas import DataFrame, Series\n",
      "import pandas as pd\n",
      "pd.set_option('display.max_columns', 50)\n",
      "%pylab inline"
     ],
     "language": "python",
     "metadata": {},
     "outputs": [
      {
       "output_type": "stream",
       "stream": "stdout",
       "text": [
        "Populating the interactive namespace from numpy and matplotlib\n"
       ]
      }
     ],
     "prompt_number": 67
    },
    {
     "cell_type": "code",
     "collapsed": false,
     "input": [
      "def get_trends(tags):\n",
      "    res_json = get_all_photos(tags=tags, license='7')\n",
      "    df = DataFrame(res_json['photos'])\n",
      "    df = df.apply(addYearTaken, axis=1)\n",
      "    df = df.apply(addRowCount, axis=1)\n",
      "    grouped = df.groupby(df.yeartaken).apply(lambda x:(np.sum(x['count'])))\n",
      "    return grouped\n",
      "\n",
      "def addYearTaken(s):\n",
      "    s['yeartaken'] = int(s['datetaken'][:4])\n",
      "    return s\n",
      "\n",
      "def addRowCount(s):\n",
      "    s['count'] = 1\n",
      "    return s"
     ],
     "language": "python",
     "metadata": {},
     "outputs": [],
     "prompt_number": 73
    },
    {
     "cell_type": "code",
     "collapsed": false,
     "input": [
      "df = get_trends('horse,pony')\n",
      "df.plot()\n",
      "pylab.xlim([2000,2013])\n",
      "\n",
      "df2 = get_trends('cat')\n",
      "df2.plot()\n",
      "pylab.xlim([2000,2013])\n",
      "\n",
      "df2 = get_trends('dog')\n",
      "df2.plot()\n",
      "pylab.xlim([2000,2013])\n",
      "\n",
      "df2 = get_trends('lizard')\n",
      "df2.plot()\n",
      "pylab.xlim([2000,2013])"
     ],
     "language": "python",
     "metadata": {},
     "outputs": [
      {
       "metadata": {},
       "output_type": "pyout",
       "prompt_number": 100,
       "text": [
        "(2000, 2013)"
       ]
      },
      {
       "metadata": {},
       "output_type": "display_data",
       "png": "[encoded data removed]",
       "text": [
        "<matplotlib.figure.Figure at 0x108a8bfd0>"
       ]
      }
     ],
     "prompt_number": 100
    }
   ],
   "metadata": {}
  }
 ]
}
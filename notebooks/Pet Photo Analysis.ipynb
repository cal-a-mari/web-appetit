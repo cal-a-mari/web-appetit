{
 "metadata": {
  "name": ""
 },
 "nbformat": 3,
 "nbformat_minor": 0,
 "worksheets": [
  {
   "cells": [
    {
     "cell_type": "heading",
     "level": 1,
     "metadata": {},
     "source": [
      "Pet Photo Analysis"
     ]
    },
    {
     "cell_type": "markdown",
     "metadata": {},
     "source": [
      "Group Members: Mari Batilando, Carina Boo, Paulina Ramos"
     ]
    },
    {
     "cell_type": "heading",
     "level": 2,
     "metadata": {},
     "source": [
      "Main Functions for Querying and Parsing"
     ]
    },
    {
     "cell_type": "code",
     "collapsed": false,
     "input": [
      "import flickrapi\n",
      "from flickrapi import shorturl\n",
      "from IPython.display import display, Image\n",
      "import json\n",
      "\n",
      "import numpy as np\n",
      "from pandas import DataFrame, Series, Index\n",
      "import pandas as pd\n",
      "from itertools import islice\n",
      "\n",
      "import matplotlib.pyplot as plt\n",
      "from pylab import figure, show\n",
      "\n",
      "from IPython.display import HTML\n",
      "import folium\n",
      "\n",
      "pd.set_option('display.max_columns', 50)\n",
      "%pylab inline\n",
      "\n",
      "APIKEY = \"800f28ae42a58a95f0005fb0fe022a78\"\n",
      "\n",
      "flickr = flickrapi.FlickrAPI(APIKEY)"
     ],
     "language": "python",
     "metadata": {},
     "outputs": [
      {
       "output_type": "stream",
       "stream": "stdout",
       "text": [
        "Populating the interactive namespace from numpy and matplotlib\n"
       ]
      }
     ],
     "prompt_number": 6
    },
    {
     "cell_type": "code",
     "collapsed": false,
     "input": [
      "from IPython.display import HTML\n",
      "from jinja2 import Template\n",
      "\n",
      "CSS = \"\"\"\n",
      "<style>\n",
      "  .wrap img {\n",
      "    margin-left: 0px;\n",
      "    margin-right: 0px;\n",
      "    display: inline-block;\n",
      "    width: 150px;\n",
      "  }\n",
      "  \n",
      ".wrap {\n",
      "   /* Prevent vertical gaps */\n",
      "   line-height: 0;\n",
      "   \n",
      "   -webkit-column-count: 5;\n",
      "   -webkit-column-gap:   0px;\n",
      "   -moz-column-count:    5;\n",
      "   -moz-column-gap:      0px;\n",
      "   column-count:         5;\n",
      "   column-gap:           0px;\n",
      "   \n",
      "}\n",
      ".wrap img {\n",
      "  /* Just in case there are inline attributes */\n",
      "  width: 100% !important;\n",
      "  height: auto !important;\n",
      "}\n",
      "\n",
      "</style>\n",
      "\"\"\"\n",
      "\n",
      "IMAGES_TEMPLATE = CSS + \"\"\"\n",
      "<div class=\"wrap\">\n",
      " {% for item in items %}<img src=\"{{item}}\"/>{% endfor %}\n",
      "</div>\n",
      "\"\"\"\n",
      "\n",
      "template = Template(IMAGES_TEMPLATE)\n",
      "\n",
      "\n",
      "# To display photos in HTML, use:\n",
      "\n",
      "# photos = get_photos_static_urls(flickr.photos_search(\n",
      "#     tag_mode='any',\n",
      "#     text='uc berkeley',\n",
      "#     format='json'))\n",
      "\n",
      "#   template = Template(IMAGES_TEMPLATE)\n",
      "#   HTML(template.render(items=photos[:30]))  # shows first 30 photos\n",
      "\n",
      "\n",
      "\n",
      "# Or just use the function:\n",
      "def display_photos(photos, count=30):\n",
      "    # @photos the result from get_page_photos(text='dog')['photos']\n",
      "    urls = []\n",
      "    for photo in photos[:count]:\n",
      "        urls.append(photo['url_m'])\n",
      "    return HTML(template.render(items=urls[:count])) "
     ],
     "language": "python",
     "metadata": {},
     "outputs": [],
     "prompt_number": 2
    },
    {
     "cell_type": "code",
     "collapsed": false,
     "input": [
      "\"\"\"\n",
      "Newer functions that take in Flickr search paramenters as paramenters \n",
      "rather than take in the json result from a Flickr query\n",
      "\"\"\"\n",
      "\n",
      "\"\"\"\n",
      "Returns the json list of all photos, ignoring the 500 photo return limit\n",
      "By default returns only Creative Common license photos\n",
      "\"\"\"\n",
      "def get_all_photos(tags='', text='', min_taken_date='', max_taken_date='', license='7'):\n",
      "    res = flickr.photos_search(\n",
      "        text=text,\n",
      "        tags=tags,\n",
      "        extras='license, date_upload, last_update, date_taken, owner_name, geo, tags, views, url_m',\n",
      "        license=license,\n",
      "        min_taken_date=min_taken_date,\n",
      "        max_taken_date=max_taken_date,\n",
      "        page=1,\n",
      "        format='json')\n",
      "    res_json = get_json(res)\n",
      "    tot_pages = res_json['photos']['pages']\n",
      "    photos = res_json['photos']['photo']\n",
      "    \n",
      "    for i in range(tot_pages): \n",
      "        next_page_res =  flickr.photos_search(\n",
      "            text=text,\n",
      "            tags=tags,\n",
      "            extras='license, date_upload, last_update, date_taken, owner_name, geo, tags, views, url_m',\n",
      "            license=license,\n",
      "            min_taken_date=min_taken_date,\n",
      "            max_taken_date=max_taken_date,\n",
      "            page=i+2,\n",
      "            format='json')\n",
      "        next_page_res_json = get_json(next_page_res)\n",
      "        photos += next_page_res_json['photos']['photo']\n",
      "        \n",
      "    num_photos = len(photos)\n",
      "    return {'photos': photos, 'length': num_photos}\n",
      "\n",
      "\"\"\"\n",
      "Returns the json list of first 100 photos\n",
      "By default returns only Creative Common license photos\n",
      "\"\"\"\n",
      "def get_page_photos(tags='', text='', min_taken_date='', max_taken_date='', license='7', per_page=100, page=1):\n",
      "    res = flickr.photos_search(\n",
      "        text=text,\n",
      "        tags=tags,\n",
      "        extras='license, date_upload, last_update, date_taken, owner_name, geo, tags, views, url_m',\n",
      "        license=license,\n",
      "        min_taken_date=min_taken_date,\n",
      "        max_taken_date=max_taken_date,\n",
      "        per_page=per_page,\n",
      "        page=page,\n",
      "        format='json')\n",
      "    res_json = get_json(res)\n",
      "    photos = res_json['photos']['photo']\n",
      "    num_photos = len(photos)\n",
      "    return {'photos': photos, 'length': num_photos}\n"
     ],
     "language": "python",
     "metadata": {},
     "outputs": [],
     "prompt_number": 3
    },
    {
     "cell_type": "code",
     "collapsed": false,
     "input": [
      "\"\"\"\n",
      "Given a flickr api search query with format='json', returns the data in actual json format\n",
      "\n",
      "get_json(flickr.photos_search(\n",
      "        tag_mode='any',\n",
      "        tags='dog',\n",
      "        license='7',\n",
      "        format='json'))\n",
      "\"\"\"\n",
      "def get_json(flickr_search_response):\n",
      "    json_string = flickr_search_response[14:-1]\n",
      "    return json.loads(json_string)\n",
      "\n",
      "\"\"\"\n",
      "Returns the json data including pages, total photo count, and list of photos\n",
      "\"\"\"\n",
      "def get_data(flickr_search_response):\n",
      "    return get_json(flickr_search_response)['photos']\n",
      "\n",
      "\"\"\"\n",
      "Returns the json list of photos\n",
      "\n",
      "u'photo': [{u'farm': 6,\n",
      "   u'id': u'11292885426',\n",
      "   u'isfamily': 0,\n",
      "   u'isfriend': 0,\n",
      "   u'ispublic': 1,\n",
      "   u'owner': u'12403504@N02',\n",
      "   u'secret': u'f09443f484',\n",
      "   u'server': u'5538',\n",
      "   u'title': u\"Image taken from page 392 of 'Northward over the \\u201cGreat Ice\\u201d: a \n",
      "    narrative of life and work along the shores and upon the interior ice-cap of Northern \n",
      "    Greenland in the years 1886 and 1891-1897 ... With maps, diagrams, and about eight hundred illustrations'\"},\n",
      "\"\"\"\n",
      "def get_photos(flickr_search_response):\n",
      "    return get_json(flickr_search_response)['photos']['photo']\n",
      "\n",
      "\"\"\"\n",
      "Returns array of Flikr photo URLs -- opens in Flickr photo viewer\n",
      "\"\"\"\n",
      "def get_photo_urls(flickr_search_response):\n",
      "    photo_list = get_photos(flickr_search_response)\n",
      "    photo_urls = []\n",
      "    for photo in photo_list:\n",
      "        photo_urls.append(flickrapi.shorturl.url(photo['id']))\n",
      "    return photo_urls\n",
      "\n",
      "\"\"\"\n",
      "Returns array of direct photo jpg URLs\n",
      "\"\"\"\n",
      "def get_photos_static_urls(flickr_search_response):\n",
      "    photo_list = get_photos(flickr_search_response)\n",
      "    photo_urls = []\n",
      "    for photo in photo_list:\n",
      "        # http://farm{farm-id}.staticflickr.com/{server-id}/{id}_{o-secret}_o.(jpg|gif|png)\n",
      "        # http://farm1.staticflickr.com/2/1418878_1e92283336_m.jpg\n",
      "        size = \"m\" # m, z, b\n",
      "        # for list of sizes see https://www.flickr.com/services/api/misc.urls.html\n",
      "        url = \"http://farm\" + str(photo['farm']) + \".staticflickr.com/\" + photo['server'] + \"/\" + photo['id'] + \"_\" + photo['secret'] +  \"_\" + size + \".jpg\"   \n",
      "        photo_urls.append(url)\n",
      "    return photo_urls\n",
      "\n",
      "\"\"\"\n",
      "Returns the count of results\n",
      "\"\"\"\n",
      "def get_count(flickr_search_response):\n",
      "    return int(get_json(flickr_search_response)['photos']['total'])\n",
      "               "
     ],
     "language": "python",
     "metadata": {},
     "outputs": [],
     "prompt_number": 4
    },
    {
     "cell_type": "heading",
     "level": 3,
     "metadata": {},
     "source": [
      "Search Parameters "
     ]
    },
    {
     "cell_type": "markdown",
     "metadata": {},
     "source": [
      "extras\n",
      "\n",
      "A comma-delimited list of extra information to fetch for each returned record. \n",
      "Currently supported fields are: \n",
      "\n",
      "description, license, date_upload, date_taken, owner_name, icon_server, \n",
      "original_format, last_update, geo, tags, machine_tags, o_dims, views, \n",
      "media, path_alias, url_sq, url_t, url_s, url_q, url_m, url_n, url_z, url_c, url_l, url_o\n",
      "\n",
      "flickr.photos_search(\n",
      "        text='dog',\n",
      "        extras='license, date_upload, last_update, date_taken, owner_name, geo, tags, views, url_m',\n",
      "        format='json')"
     ]
    },
    {
     "cell_type": "heading",
     "level": 3,
     "metadata": {},
     "source": [
      "Examples of how to use function calls:"
     ]
    },
    {
     "cell_type": "code",
     "collapsed": false,
     "input": [
      "get_count(flickr.photos_search(\n",
      "        tag_mode='any',\n",
      "        tags='dog',\n",
      "        license='7',\n",
      "        format='json'))"
     ],
     "language": "python",
     "metadata": {},
     "outputs": [
      {
       "ename": "TypeError",
       "evalue": "int() argument must be a string or a number, not 'NoneType'",
       "output_type": "pyerr",
       "traceback": [
        "\u001b[0;31m---------------------------------------------------------------------------\u001b[0m\n\u001b[0;31mTypeError\u001b[0m                                 Traceback (most recent call last)",
        "\u001b[0;32m<ipython-input-5-72b3552bd18f>\u001b[0m in \u001b[0;36m<module>\u001b[0;34m()\u001b[0m\n\u001b[1;32m      3\u001b[0m         \u001b[0mtags\u001b[0m\u001b[0;34m=\u001b[0m\u001b[0;34m'dog'\u001b[0m\u001b[0;34m,\u001b[0m\u001b[0;34m\u001b[0m\u001b[0m\n\u001b[1;32m      4\u001b[0m         \u001b[0mlicense\u001b[0m\u001b[0;34m=\u001b[0m\u001b[0;34m'7'\u001b[0m\u001b[0;34m,\u001b[0m\u001b[0;34m\u001b[0m\u001b[0m\n\u001b[0;32m----> 5\u001b[0;31m         format='json'))\n\u001b[0m",
        "\u001b[0;32m<ipython-input-4-ee3146435f2c>\u001b[0m in \u001b[0;36mget_count\u001b[0;34m(flickr_search_response)\u001b[0m\n\u001b[1;32m     65\u001b[0m \"\"\"\n\u001b[1;32m     66\u001b[0m \u001b[0;32mdef\u001b[0m \u001b[0mget_count\u001b[0m\u001b[0;34m(\u001b[0m\u001b[0mflickr_search_response\u001b[0m\u001b[0;34m)\u001b[0m\u001b[0;34m:\u001b[0m\u001b[0;34m\u001b[0m\u001b[0m\n\u001b[0;32m---> 67\u001b[0;31m     \u001b[0;32mreturn\u001b[0m \u001b[0mint\u001b[0m\u001b[0;34m(\u001b[0m\u001b[0mget_json\u001b[0m\u001b[0;34m(\u001b[0m\u001b[0mflickr_search_response\u001b[0m\u001b[0;34m)\u001b[0m\u001b[0;34m[\u001b[0m\u001b[0;34m'photos'\u001b[0m\u001b[0;34m]\u001b[0m\u001b[0;34m[\u001b[0m\u001b[0;34m'total'\u001b[0m\u001b[0;34m]\u001b[0m\u001b[0;34m)\u001b[0m\u001b[0;34m\u001b[0m\u001b[0m\n\u001b[0m\u001b[1;32m     68\u001b[0m \u001b[0;34m\u001b[0m\u001b[0m\n",
        "\u001b[0;31mTypeError\u001b[0m: int() argument must be a string or a number, not 'NoneType'"
       ]
      }
     ],
     "prompt_number": 5
    },
    {
     "cell_type": "code",
     "collapsed": false,
     "input": [
      "get_photos(flickr.photos_search(\n",
      "        text='dog',\n",
      "        extras='license, date_upload, last_update, date_taken, owner_name, geo, tags, views, url_m',\n",
      "        license='7',\n",
      "        format='json'))"
     ],
     "language": "python",
     "metadata": {},
     "outputs": []
    },
    {
     "cell_type": "heading",
     "level": 3,
     "metadata": {},
     "source": [
      "Examples of how to use new function calls with Flickr API search parameters:"
     ]
    },
    {
     "cell_type": "code",
     "collapsed": false,
     "input": [
      "get_page_photos(tags='dog, puppy', license='7')['length']"
     ],
     "language": "python",
     "metadata": {},
     "outputs": []
    },
    {
     "cell_type": "code",
     "collapsed": false,
     "input": [
      "get_page_photos(tags='dog, puppy', license='7')['photos']"
     ],
     "language": "python",
     "metadata": {},
     "outputs": []
    },
    {
     "cell_type": "heading",
     "level": 2,
     "metadata": {},
     "source": [
      "Creative Commons vs All Rights Reserved"
     ]
    },
    {
     "cell_type": "code",
     "collapsed": false,
     "input": [
      "display_photos(get_page_photos(tags='dog, puppy', license='7')['photos'])"
     ],
     "language": "python",
     "metadata": {},
     "outputs": []
    },
    {
     "cell_type": "code",
     "collapsed": false,
     "input": [
      "display_photos(get_page_photos(tags='dog, puppy', license='')['photos'])"
     ],
     "language": "python",
     "metadata": {},
     "outputs": []
    },
    {
     "cell_type": "code",
     "collapsed": false,
     "input": [
      "get_count(flickr.photos_search(\n",
      "        tag_mode='any',\n",
      "        tags='dog, cat, pet',\n",
      "        license='7',\n",
      "        format='json'))"
     ],
     "language": "python",
     "metadata": {},
     "outputs": []
    },
    {
     "cell_type": "code",
     "collapsed": false,
     "input": [
      "get_count(flickr.photos_search(\n",
      "        tag_mode='any',\n",
      "        tags='dog, cat, pet',\n",
      "        license='0,1,2,3,4,5,6,8',\n",
      "        format='json'))"
     ],
     "language": "python",
     "metadata": {},
     "outputs": []
    },
    {
     "cell_type": "heading",
     "level": 2,
     "metadata": {},
     "source": [
      "Dogs vs Cat Lovers"
     ]
    },
    {
     "cell_type": "code",
     "collapsed": false,
     "input": [
      "tagged_dog = flickr.photos_search(\n",
      "        tag_mode='any',\n",
      "        tags='dog, puppy',\n",
      "        license='7',\n",
      "        format='json')\n",
      "\n",
      "desc_dog = flickr.photos_search(\n",
      "        text='dog',\n",
      "        license='7',\n",
      "        format='json')\n",
      "\n",
      "\n",
      "tagged_cat = flickr.photos_search(\n",
      "        tag_mode='any',\n",
      "        tags='cat, kitty, kitten',\n",
      "        license='7',\n",
      "        format='json')\n",
      "\n",
      "desc_cat = flickr.photos_search(\n",
      "        text='cat',\n",
      "        license='7',\n",
      "        format='json')"
     ],
     "language": "python",
     "metadata": {},
     "outputs": []
    },
    {
     "cell_type": "code",
     "collapsed": false,
     "input": [
      "get_count(tagged_dog)"
     ],
     "language": "python",
     "metadata": {},
     "outputs": []
    },
    {
     "cell_type": "code",
     "collapsed": false,
     "input": [
      "get_count(tagged_cat)"
     ],
     "language": "python",
     "metadata": {},
     "outputs": []
    },
    {
     "cell_type": "code",
     "collapsed": false,
     "input": [
      "\"\"\"\n",
      "Ratio of Dog:Cat tagged CC license photos\n",
      "\"\"\"\n",
      "get_count(tagged_dog)/float(get_count(tagged_cat))"
     ],
     "language": "python",
     "metadata": {},
     "outputs": []
    },
    {
     "cell_type": "code",
     "collapsed": false,
     "input": [
      "get_count(desc_dog)"
     ],
     "language": "python",
     "metadata": {},
     "outputs": []
    },
    {
     "cell_type": "code",
     "collapsed": false,
     "input": [
      "get_count(desc_cat)"
     ],
     "language": "python",
     "metadata": {},
     "outputs": []
    },
    {
     "cell_type": "code",
     "collapsed": false,
     "input": [
      "\"\"\"\n",
      "Ratio of Dog:Cat described CC license photos\n",
      "\"\"\"\n",
      "get_count(desc_dog)/float(get_count(desc_cat))"
     ],
     "language": "python",
     "metadata": {},
     "outputs": []
    },
    {
     "cell_type": "heading",
     "level": 2,
     "metadata": {},
     "source": [
      "Most Popular Time to Upload Pet Photos"
     ]
    },
    {
     "cell_type": "code",
     "collapsed": false,
     "input": [
      "photos = get_all_photos(text='dog', min_taken_date='2013-01-01', max_taken_date='2013-12-31')\n",
      "photos['length']"
     ],
     "language": "python",
     "metadata": {},
     "outputs": []
    },
    {
     "cell_type": "code",
     "collapsed": false,
     "input": [
      "df = DataFrame(photos['photos'])\n",
      "df.head(5)"
     ],
     "language": "python",
     "metadata": {},
     "outputs": []
    },
    {
     "cell_type": "code",
     "collapsed": false,
     "input": [
      "def addMonthTaken(s):\n",
      "    s['monthtaken'] = int(s['datetaken'][5:7])\n",
      "    return s\n",
      "    # row['monthtaken'] = row['datetaken']\n",
      "    # row['datetaken'].startswith(\"2013-12\")"
     ],
     "language": "python",
     "metadata": {},
     "outputs": []
    },
    {
     "cell_type": "code",
     "collapsed": false,
     "input": [
      "df = df.apply(addMonthTaken, axis=1)"
     ],
     "language": "python",
     "metadata": {},
     "outputs": []
    },
    {
     "cell_type": "code",
     "collapsed": false,
     "input": [
      "\"\"\"\n",
      "Reorder columns so monthtaken is in front\n",
      "\"\"\"\n",
      "cols = df.columns.tolist()\n",
      "cols = cols[-1:] + cols[:-1]\n",
      "df = df[cols]"
     ],
     "language": "python",
     "metadata": {},
     "outputs": []
    },
    {
     "cell_type": "code",
     "collapsed": false,
     "input": [
      "df.head()"
     ],
     "language": "python",
     "metadata": {},
     "outputs": []
    },
    {
     "cell_type": "code",
     "collapsed": false,
     "input": [
      "grouped = df.groupby(by='monthtaken')\n",
      "grouped.head()"
     ],
     "language": "python",
     "metadata": {},
     "outputs": []
    },
    {
     "cell_type": "code",
     "collapsed": false,
     "input": [
      "def inline_map(map):\n",
      "    \"\"\"\n",
      "    Embeds the HTML source of the map directly into the IPython notebook.\n",
      "    \n",
      "    This method will not work if the map depends on any files (json data). Also this uses\n",
      "    the HTML5 srcdoc attribute, which may not be supported in all browsers.\n",
      "    \"\"\"\n",
      "    map._build_map()\n",
      "    return HTML('<iframe srcdoc=\"{srcdoc}\" style=\"width: 100%; height: 510px; border: none\"></iframe>'.format(srcdoc=map.HTML.replace('\"', '&quot;')))\n",
      "\n",
      "def embed_map(map, path=\"map.html\"):\n",
      "    \"\"\"\n",
      "    Embeds a linked iframe to the map into the IPython notebook.\n",
      "    \n",
      "    Note: this method will not capture the source of the map into the notebook.\n",
      "    This method should work for all maps (as long as they use relative urls).\n",
      "    \"\"\"\n",
      "    map.create_map(path=path)\n",
      "    return HTML('<iframe src=\"files/{path}\" style=\"width: 100%; height: 510px; border: none\"></iframe>'.format(path=path))"
     ],
     "language": "python",
     "metadata": {},
     "outputs": [],
     "prompt_number": 7
    },
    {
     "cell_type": "code",
     "collapsed": false,
     "input": [
      "# Helper functions to grab data from the Flickr API\n",
      "\"\"\"\n",
      "Given a flickr api search query with format='json', returns the data in actual json format\n",
      "\n",
      "get_json(flickr.photos_search(\n",
      "        tag_mode='any',\n",
      "        tag='dog',\n",
      "        license='7',\n",
      "        format='json'))\n",
      "\"\"\"\n",
      "def get_json(flickr_search_response):\n",
      "    json_string = flickr_search_response[14:-1]\n",
      "    return json.loads(json_string)\n",
      "\n",
      "\"\"\"\n",
      "Returns the json data including pages, total photo count, and list of photos\n",
      "\"\"\"\n",
      "def get_data(flickr_search_response):\n",
      "    return get_json(flickr_search_response)['photos']\n",
      "\n",
      "\"\"\"\n",
      "Returns the json list of photos\n",
      "\n",
      "u'photo': [{u'farm': 6,\n",
      "   u'id': u'11292885426',\n",
      "   u'isfamily': 0,\n",
      "   u'isfriend': 0,\n",
      "   u'ispublic': 1,\n",
      "   u'owner': u'12403504@N02',\n",
      "   u'secret': u'f09443f484',\n",
      "   u'server': u'5538',\n",
      "   u'title': u\"Image taken from page 392 of 'Northward over the \\u201cGreat Ice\\u201d: a \n",
      "    narrative of life and work along the shores and upon the interior ice-cap of Northern \n",
      "    Greenland in the years 1886 and 1891-1897 ... With maps, diagrams, and about eight hundred illustrations'\"},\n",
      "\"\"\"\n",
      "def get_photos(flickr_search_response):\n",
      "    return get_json(flickr_search_response)['photos']['photo']\n",
      "\n",
      "\"\"\"\n",
      "Returns array of Flikr photo URLs -- opens in Flickr photo viewer\n",
      "\"\"\"\n",
      "def get_photo_urls(flickr_search_response):\n",
      "    photo_list = get_photos(flickr_search_response)\n",
      "    photo_urls = []\n",
      "    for photo in photo_list:\n",
      "        photo_urls.append(flickrapi.shorturl.url(photo['id']))\n",
      "    return photo_urls\n",
      "\n",
      "\"\"\"\n",
      "Returns array of direct photo jpg URLs\n",
      "\"\"\"\n",
      "def get_photos_static_urls(flickr_search_response):\n",
      "    photo_list = get_photos(flickr_search_response)\n",
      "    photo_urls = []\n",
      "    for photo in photo_list:\n",
      "        # http://farm{farm-id}.staticflickr.com/{server-id}/{id}_{o-secret}_o.(jpg|gif|png)\n",
      "        # http://farm1.staticflickr.com/2/1418878_1e92283336_m.jpg\n",
      "        size = \"m\" # m, z, b\n",
      "        # for list of sizes see https://www.flickr.com/services/api/misc.urls.html\n",
      "        url = \"http://farm\" + str(photo['farm']) + \".staticflickr.com/\" + photo['server'] + \"/\" + photo['id'] + \"_\" + photo['secret'] +  \"_\" + size + \".jpg\"   \n",
      "        photo_urls.append(url)\n",
      "    return photo_urls\n",
      "\n",
      "\"\"\"\n",
      "Returns the count of results\n",
      "\"\"\"\n",
      "def get_count(flickr_search_response):\n",
      "    return get_json(flickr_search_response)['photos']['total']"
     ],
     "language": "python",
     "metadata": {},
     "outputs": [],
     "prompt_number": 8
    },
    {
     "cell_type": "code",
     "collapsed": false,
     "input": [
      "# Mapping Style 1: Open Street Map\n",
      "\n",
      "osm = folium.Map(location=[40.67, -73.94], tiles='Open Street Map',\n",
      "                    zoom_start=13)\n",
      "osm.simple_marker([40.67, -73.94], popup='Doggy here!')\n",
      "inline_map(osm)"
     ],
     "language": "python",
     "metadata": {},
     "outputs": [
      {
       "html": [
        "<iframe srcdoc=\"<!DOCTYPE html>\n",
        "<head>\n",
        "   <link rel=&quot;stylesheet&quot; href=&quot;http://cdn.leafletjs.com/leaflet-0.5/leaflet.css&quot; />\n",
        "   <script src=&quot;http://cdn.leafletjs.com/leaflet-0.5/leaflet.js&quot;></script>\n",
        "   \n",
        "   \n",
        "   \n",
        "   \n",
        "\n",
        "\n",
        "<style>\n",
        "\n",
        "#map {\n",
        "  position:absolute;\n",
        "  top:0;\n",
        "  bottom:0;\n",
        "  right:0;\n",
        "  left:0;\n",
        "}\n",
        "\n",
        "</style>\n",
        "</head>\n",
        "<body>\n",
        "\n",
        "        <div id=&quot;map&quot; style=&quot;width: 960px; height: 500px&quot;></div>\n",
        "\n",
        "<script>\n",
        "\n",
        "\n",
        "\n",
        "var map = L.map('map').setView([40.67, -73.94], 13);\n",
        "\n",
        "L.tileLayer('http://{s}.tile.openstreetmap.org/{z}/{x}/{y}.png', {\n",
        "    maxZoom: 18,\n",
        "    attribution: 'Map data (c) <a href=&quot;http://openstreetmap.org&quot;>OpenStreetMap</a> contributors'\n",
        "}).addTo(map);\n",
        "\n",
        "\n",
        "var marker_1 = L.marker([40.67, -73.94]);\n",
        "marker_1.bindPopup(&quot;Doggy here!&quot;);\n",
        "map.addLayer(marker_1)\n",
        "\n",
        "\n",
        "\n",
        "\n",
        "\n",
        "\n",
        "</script>\n",
        "\n",
        "</body>\" style=\"width: 100%; height: 510px; border: none\"></iframe>"
       ],
       "metadata": {},
       "output_type": "pyout",
       "prompt_number": 9,
       "text": [
        "<IPython.core.display.HTML at 0x107f26f50>"
       ]
      }
     ],
     "prompt_number": 9
    },
    {
     "cell_type": "code",
     "collapsed": false,
     "input": [
      "# Mapping Style #2: U.S. Map View\n",
      "\n",
      "map = folium.Map(location=[40, -99], zoom_start=3)\n",
      "map.simple_marker([40.67, -73.94], popup='Doggy here!')\n",
      "inline_map(map)"
     ],
     "language": "python",
     "metadata": {},
     "outputs": [
      {
       "html": [
        "<iframe srcdoc=\"<!DOCTYPE html>\n",
        "<head>\n",
        "   <link rel=&quot;stylesheet&quot; href=&quot;http://cdn.leafletjs.com/leaflet-0.5/leaflet.css&quot; />\n",
        "   <script src=&quot;http://cdn.leafletjs.com/leaflet-0.5/leaflet.js&quot;></script>\n",
        "   \n",
        "   \n",
        "   \n",
        "   \n",
        "\n",
        "\n",
        "<style>\n",
        "\n",
        "#map {\n",
        "  position:absolute;\n",
        "  top:0;\n",
        "  bottom:0;\n",
        "  right:0;\n",
        "  left:0;\n",
        "}\n",
        "\n",
        "</style>\n",
        "</head>\n",
        "<body>\n",
        "\n",
        "        <div id=&quot;map&quot; style=&quot;width: 960px; height: 500px&quot;></div>\n",
        "\n",
        "<script>\n",
        "\n",
        "\n",
        "\n",
        "var map = L.map('map').setView([40, -99], 3);\n",
        "\n",
        "L.tileLayer('http://{s}.tile.openstreetmap.org/{z}/{x}/{y}.png', {\n",
        "    maxZoom: 18,\n",
        "    attribution: 'Map data (c) <a href=&quot;http://openstreetmap.org&quot;>OpenStreetMap</a> contributors'\n",
        "}).addTo(map);\n",
        "\n",
        "\n",
        "var marker_1 = L.marker([40.67, -73.94]);\n",
        "marker_1.bindPopup(&quot;Doggy here!&quot;);\n",
        "map.addLayer(marker_1)\n",
        "\n",
        "\n",
        "\n",
        "\n",
        "\n",
        "\n",
        "</script>\n",
        "\n",
        "</body>\" style=\"width: 100%; height: 510px; border: none\"></iframe>"
       ],
       "metadata": {},
       "output_type": "pyout",
       "prompt_number": 10,
       "text": [
        "<IPython.core.display.HTML at 0x107f38e50>"
       ]
      }
     ],
     "prompt_number": 10
    },
    {
     "cell_type": "code",
     "collapsed": false,
     "input": [
      "# Map Style #3: Stamen Toner (black & white)\n",
      "\n",
      "stamen = folium.Map(location=[40.67, -73.94], tiles='Stamen Toner',\n",
      "                    zoom_start=13)\n",
      "stamen.simple_marker([40.67, -73.94], popup='Doggy here!')\n",
      "inline_map(stamen)"
     ],
     "language": "python",
     "metadata": {},
     "outputs": [
      {
       "html": [
        "<iframe srcdoc=\"<!DOCTYPE html>\n",
        "<head>\n",
        "   <link rel=&quot;stylesheet&quot; href=&quot;http://cdn.leafletjs.com/leaflet-0.5/leaflet.css&quot; />\n",
        "   <script src=&quot;http://cdn.leafletjs.com/leaflet-0.5/leaflet.js&quot;></script>\n",
        "   \n",
        "   \n",
        "   \n",
        "   \n",
        "\n",
        "\n",
        "<style>\n",
        "\n",
        "#map {\n",
        "  position:absolute;\n",
        "  top:0;\n",
        "  bottom:0;\n",
        "  right:0;\n",
        "  left:0;\n",
        "}\n",
        "\n",
        "</style>\n",
        "</head>\n",
        "<body>\n",
        "\n",
        "        <div id=&quot;map&quot; style=&quot;width: 960px; height: 500px&quot;></div>\n",
        "\n",
        "<script>\n",
        "\n",
        "\n",
        "\n",
        "var map = L.map('map').setView([40.67, -73.94], 13);\n",
        "\n",
        "L.tileLayer('http://{s}.tile.stamen.com/toner/{z}/{x}/{y}.jpg', {\n",
        "    maxZoom: 18,\n",
        "    attribution: 'Map tiles by <a href=&quot;http://stamen.com&quot;>Stamen Design</a>, under <a href=&quot;http://creativecommons.org/licenses/by/3.0&quot;>CC BY 3.0</a>. Data by <a href=&quot;http://openstreetmap.org&quot;>OpenStreetMap</a>, under <a href=&quot;http://creativecommons.org/licenses/by-sa/3.0&quot;>CC BY SA</a>.'\n",
        "}).addTo(map);\n",
        "\n",
        "\n",
        "var marker_1 = L.marker([40.67, -73.94]);\n",
        "marker_1.bindPopup(&quot;Doggy here!&quot;);\n",
        "map.addLayer(marker_1)\n",
        "\n",
        "\n",
        "\n",
        "\n",
        "\n",
        "\n",
        "</script>\n",
        "\n",
        "</body>\" style=\"width: 100%; height: 510px; border: none\"></iframe>"
       ],
       "metadata": {},
       "output_type": "pyout",
       "prompt_number": 11,
       "text": [
        "<IPython.core.display.HTML at 0x107f3ef10>"
       ]
      }
     ],
     "prompt_number": 11
    },
    {
     "cell_type": "code",
     "collapsed": false,
     "input": [
      "# Map Style #4: Mapbox Bright\n",
      "\n",
      "osm = folium.Map(location=[40.67, -73.94], tiles='Mapbox Bright')\n",
      "osm.simple_marker([40.67, -73.94], popup='Doggy here!')\n",
      "inline_map(osm)"
     ],
     "language": "python",
     "metadata": {},
     "outputs": [
      {
       "html": [
        "<iframe srcdoc=\"<!DOCTYPE html>\n",
        "<head>\n",
        "   <link rel=&quot;stylesheet&quot; href=&quot;http://cdn.leafletjs.com/leaflet-0.5/leaflet.css&quot; />\n",
        "   <script src=&quot;http://cdn.leafletjs.com/leaflet-0.5/leaflet.js&quot;></script>\n",
        "   \n",
        "   \n",
        "   \n",
        "   \n",
        "\n",
        "\n",
        "<style>\n",
        "\n",
        "#map {\n",
        "  position:absolute;\n",
        "  top:0;\n",
        "  bottom:0;\n",
        "  right:0;\n",
        "  left:0;\n",
        "}\n",
        "\n",
        "</style>\n",
        "</head>\n",
        "<body>\n",
        "\n",
        "        <div id=&quot;map&quot; style=&quot;width: 960px; height: 500px&quot;></div>\n",
        "\n",
        "<script>\n",
        "\n",
        "\n",
        "\n",
        "var map = L.map('map').setView([40.67, -73.94], 10);\n",
        "\n",
        "L.tileLayer('http://{s}.tiles.mapbox.com/v3/mapbox.world-bright/{z}/{x}/{y}.png', {\n",
        "    maxZoom: 18,\n",
        "    attribution: 'Map tiles by <a href=&quot;http://www.mapbox.com/m&quot;>Mapbox</a> Data by <a href=&quot;http://openstreetmap.org&quot;>OpenStreetMap</a>, under <a href=&quot;http://creativecommons.org/licenses/by-sa/3.0&quot;>CC BY SA</a>.'\n",
        "}).addTo(map);\n",
        "\n",
        "\n",
        "var marker_1 = L.marker([40.67, -73.94]);\n",
        "marker_1.bindPopup(&quot;Doggy here!&quot;);\n",
        "map.addLayer(marker_1)\n",
        "\n",
        "\n",
        "\n",
        "\n",
        "\n",
        "\n",
        "</script>\n",
        "\n",
        "</body>\" style=\"width: 100%; height: 510px; border: none\"></iframe>"
       ],
       "metadata": {},
       "output_type": "pyout",
       "prompt_number": 12,
       "text": [
        "<IPython.core.display.HTML at 0x107f4ae90>"
       ]
      }
     ],
     "prompt_number": 12
    }
   ],
   "metadata": {}
  }
 ]
}
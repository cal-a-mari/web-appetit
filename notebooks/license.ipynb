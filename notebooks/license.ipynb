{
 "metadata": {
  "name": ""
 },
 "nbformat": 3,
 "nbformat_minor": 0,
 "worksheets": [
  {
   "cells": [
    {
     "cell_type": "code",
     "collapsed": false,
     "input": [
      "import flickrapi\n",
      "from flickrapi import shorturl\n",
      "import json\n",
      "\n",
      "APIKEY = \"800f28ae42a58a95f0005fb0fe022a78\"\n",
      "\n",
      "flickr = flickrapi.FlickrAPI(APIKEY)"
     ],
     "language": "python",
     "metadata": {},
     "outputs": [],
     "prompt_number": 1
    },
    {
     "cell_type": "code",
     "collapsed": false,
     "input": [
      "def makeValidJsonStr(string):\n",
      "    return string[14:len(string)-1]"
     ],
     "language": "python",
     "metadata": {},
     "outputs": [],
     "prompt_number": 2
    },
    {
     "cell_type": "code",
     "collapsed": false,
     "input": [
      "\"\"\"\n",
      "Get all photos with the tag 'pet' with no Copyright restrictions\n",
      "\"\"\"\n",
      "freeDataStr = flickr.photos_search(tags='pet',license='7',format='json')\n",
      "freeData = json.loads(makeValidJsonStr(freeDataStr))\n",
      "print freeData[\"photos\"][\"total\"]"
     ],
     "language": "python",
     "metadata": {},
     "outputs": [
      {
       "output_type": "stream",
       "stream": "stdout",
       "text": [
        "89\n"
       ]
      }
     ],
     "prompt_number": 6
    },
    {
     "cell_type": "code",
     "collapsed": false,
     "input": [
      "\"\"\"\n",
      "Get all licensed photos with the tag 'pet'\n",
      "\"\"\"\n",
      "licensedDataStr = flickr.photos_search(tags='pet',license='0,1,2,3,4,5,6,8',format='json')\n",
      "licensedData = json.loads(makeValidJsonStr(licensedDataStr))\n",
      "print licensedData[\"photos\"][\"total\"]"
     ],
     "language": "python",
     "metadata": {},
     "outputs": [
      {
       "output_type": "stream",
       "stream": "stdout",
       "text": [
        "1357283\n"
       ]
      }
     ],
     "prompt_number": 5
    }
   ],
   "metadata": {}
  }
 ]
}
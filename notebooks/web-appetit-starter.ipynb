{
 "metadata": {
  "name": ""
 },
 "nbformat": 3,
 "nbformat_minor": 0,
 "worksheets": [
  {
   "cells": [
    {
     "cell_type": "raw",
     "metadata": {},
     "source": [
      "This iPython notebook uses FlickrAPI made by Sybren St\u00fcvel (http://stuvel.eu/media/flickrapi-docs/apidoc/) to grab photos in Flickr according to our query. This notebook shows how to query the Flickr API to grab photos depending on its tags, description, location (latitude, longtitude), license, date. "
     ]
    },
    {
     "cell_type": "code",
     "collapsed": false,
     "input": [
      "import flickrapi\n",
      "from flickrapi import shorturl\n",
      "import json\n",
      "\n",
      "APIKEY = \"800f28ae42a58a95f0005fb0fe022a78\"\n",
      "\n",
      "flickr = flickrapi.FlickrAPI(APIKEY)"
     ],
     "language": "python",
     "metadata": {},
     "outputs": [],
     "prompt_number": 1
    },
    {
     "cell_type": "code",
     "collapsed": false,
     "input": [
      "def makeValidJsonStr(string):\n",
      "    return string[14:len(string)-1]"
     ],
     "language": "python",
     "metadata": {},
     "outputs": [],
     "prompt_number": 2
    },
    {
     "cell_type": "code",
     "collapsed": false,
     "input": [
      "\"\"\"\n",
      "Get all photos with the tag 'pet' under the Creative Commons license\n",
      "\"\"\"\n",
      "# for photo in flickr.walk(\n",
      "#         tags='puppy',\n",
      "#         license=\"7\"):\n",
      "#     print flickrapi.shorturl.url(photo.get('id'))\n",
      "    \n",
      "freeDataStr = flickr.photos_search(tags='pet',license='7',format='json')\n",
      "freeData = json.loads(makeValidJsonStr(freeDataStr))\n",
      "print freeData[\"photos\"][\"total\"]"
     ],
     "language": "python",
     "metadata": {},
     "outputs": [
      {
       "output_type": "stream",
       "stream": "stdout",
       "text": [
        "89\n"
       ]
      }
     ],
     "prompt_number": 3
    },
    {
     "cell_type": "code",
     "collapsed": false,
     "input": [
      "\"\"\"\n",
      "Get all licensed photos with the tag 'pet'\n",
      "\"\"\"\n",
      "# for photo in flickr.walk(\n",
      "#         tags='puppy',\n",
      "#         license=\"0,1,2,3,4,5,6,8\",\n",
      "#         format=\"json\"):\n",
      "#     print flickrapi.shorturl.url(photo.get('id'))\n",
      "licensedDataStr = flickr.photos_search(tags='pet',license='0,1,2,3,4,5,6,8',format='json')\n",
      "licensedData = json.loads(makeValidJsonStr(licensedDataStr))\n",
      "print licensedData[\"photos\"][\"total\"]"
     ],
     "language": "python",
     "metadata": {},
     "outputs": [
      {
       "output_type": "stream",
       "stream": "stdout",
       "text": [
        "1357784\n"
       ]
      }
     ],
     "prompt_number": 4
    },
    {
     "cell_type": "code",
     "collapsed": false,
     "input": [],
     "language": "python",
     "metadata": {},
     "outputs": [],
     "prompt_number": 44
    },
    {
     "cell_type": "code",
     "collapsed": false,
     "input": [],
     "language": "python",
     "metadata": {},
     "outputs": []
    }
   ],
   "metadata": {}
  }
 ]
}
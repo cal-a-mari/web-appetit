{
 "metadata": {
  "name": ""
 },
 "nbformat": 3,
 "nbformat_minor": 0,
 "worksheets": [
  {
   "cells": [
    {
     "cell_type": "raw",
     "metadata": {},
     "source": [
      "This iPython notebook uses FlickrAPI made by Sybren St\u00fcvel (http://stuvel.eu/media/flickrapi-docs/apidoc/) to grab photos in Flickr according to our query. This notebook shows how to query the Flickr API to grab photos depending on its tags, description, location (latitude, longtitude), license, date. "
     ]
    },
    {
     "cell_type": "code",
     "collapsed": false,
     "input": [
      "import flickrapi\n",
      "from flickrapi import shorturl\n",
      "\n",
      "APIKEY = \"800f28ae42a58a95f0005fb0fe022a78\"\n",
      "\n",
      "flickr = flickrapi.FlickrAPI(APIKEY)"
     ],
     "language": "python",
     "metadata": {},
     "outputs": [],
     "prompt_number": 4
    },
    {
     "cell_type": "code",
     "collapsed": false,
     "input": [
      "\"\"\"\n",
      "Get all photos with 'building' in its description and tag at New York City within 32 mi radius that were taken between \n",
      "August 20, 2008 and August 30, 2013 that have the 'All Rights Reserved' and 'No Copyright' license\n",
      "\"\"\"\n",
      "for photo in flickr.walk(\n",
      "        text='building',\n",
      "        tag='building',\n",
      "        lat=40.67,\n",
      "        lon=73.94,\n",
      "        radius=32,\n",
      "        min_taken_date='2008-08-20',\n",
      "        max_taken_date='2013-08-30',\n",
      "        license='7,0'):\n",
      "    print flickrapi.shorturl.url(photo.get('id'))"
     ],
     "language": "python",
     "metadata": {},
     "outputs": [
      {
       "output_type": "stream",
       "stream": "stdout",
       "text": [
        "http://flic.kr/p/dmySKm\n",
        "http://flic.kr/p/jwiZsH\n",
        "http://flic.kr/p/jwm3By\n",
        "http://flic.kr/p/jwnwHy\n",
        "http://flic.kr/p/5Hj4w8\n",
        "http://flic.kr/p/5Hj4xx\n",
        "http://flic.kr/p/6nT2Gu\n"
       ]
      }
     ],
     "prompt_number": 38
    }
   ],
   "metadata": {}
  }
 ]
}